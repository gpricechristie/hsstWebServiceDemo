{
  "nbformat": 4,
  "nbformat_minor": 0,
  "metadata": {
    "colab": {
      "provenance": [],
      "authorship_tag": "ABX9TyNyxDoNbpirZ0qbeG5XcHY6",
      "include_colab_link": true
    },
    "kernelspec": {
      "name": "python3",
      "display_name": "Python 3"
    },
    "language_info": {
      "name": "python"
    }
  },
  "cells": [
    {
      "cell_type": "markdown",
      "metadata": {
        "id": "view-in-github",
        "colab_type": "text"
      },
      "source": [
        "<a href=\"https://colab.research.google.com/github/gpricechristie/hsstWebServiceDemo/blob/main/restfulWebService.ipynb\" target=\"_parent\"><img src=\"https://colab.research.google.com/assets/colab-badge.svg\" alt=\"Open In Colab\"/></a>"
      ]
    },
    {
      "cell_type": "markdown",
      "source": [
        "#RESTful database backed web service\n",
        "When the database and website functions are made available for other applications to use its often called a web service. REpresentational State Transfer (REST) a popular architecture using HTTP methods/verbs (GET, POST, PUT, PATCH, DELETE) to access service methods.\n",
        "\n",
        "As for the previous example,this code uses flask to create an SQLite database backed website thats rendered through the use of html templates. In this example we also include some additional functions that allow the database to be quried and written to by other applications.\n",
        "\n",
        "As in previous examples we also use pyngrok to expose the locally hosted web service to the public internet\n"
      ],
      "metadata": {
        "id": "TjR6Gw2y1Ux8"
      }
    },
    {
      "cell_type": "code",
      "source": [
        "!pip install pyngrok\n",
        "from flask import Flask, render_template, request, redirect, g, jsonify\n",
        "from pyngrok import ngrok\n",
        "import sqlite3\n",
        "import os"
      ],
      "metadata": {
        "id": "gaGBuxpl2MrZ"
      },
      "execution_count": null,
      "outputs": []
    },
    {
      "cell_type": "markdown",
      "source": [
        "##Create the website database\n",
        "Use the sqlite3 package to create a new database (need the parent directory to exist first), connect to it, and create the same database as used in the previous example"
      ],
      "metadata": {
        "id": "P8e7wSvr2S9T"
      }
    },
    {
      "cell_type": "code",
      "source": [
        "if not os.path.exists('db'):\n",
        "    os.makedirs('db')\n",
        "conn = sqlite3.connect(\"db/test.db\")\n",
        "\n",
        "cursor = conn.cursor()\n",
        "cursor.execute(\"DROP TABLE IF EXISTS computing_data;\")\n",
        "cursor.execute(\"CREATE TABLE IF NOT EXISTS computing_data ( fname TEXT, lname TEXT, valueofcomputing TEXT );\")"
      ],
      "metadata": {
        "id": "GZOB9xQQ2eG-"
      },
      "execution_count": null,
      "outputs": []
    },
    {
      "cell_type": "markdown",
      "source": [
        "##Boilerplate code to build website\n",
        "As for the StaticWebsite notebook we need to create the flask server object, and authenticate and create the ngrok tunnel"
      ],
      "metadata": {
        "id": "lk11MKXe2jPR"
      }
    },
    {
      "cell_type": "code",
      "source": [
        "app = Flask(__name__)\n",
        "\n",
        "ngrok.set_auth_token(\"2OxbwWyt7aHTrLuvIkLgdvgmSLA_81zjJCaMLzNbzx89uDb8r\")\n",
        "public_url = ngrok.connect(5000).public_url\n",
        "print(\" * ngrok tunnel \\\"{}\\\" -> \\\"http://127.0.0.1:{}\\\"\".format(public_url, \"5000\"))"
      ],
      "metadata": {
        "id": "Dpovb8gZ2pWC"
      },
      "execution_count": null,
      "outputs": []
    },
    {
      "cell_type": "markdown",
      "source": [
        "##Functions to render the site\n",
        "The set of functions below are the same as for the previous dynamic website example:\n",
        "\n",
        "\n",
        "*   Open the databae at the start of each request\n",
        "*   Close the database at the send of each request\n",
        "*   Write to the database via the /add_data URL when the html webform is used \n",
        "*   Render the page, including reading the database to add the table content to the page"
      ],
      "metadata": {
        "id": "xzQk3Ocw2sEP"
      }
    },
    {
      "cell_type": "code",
      "source": [
        "@app.before_request\n",
        "def before_request():\n",
        "    g.db = sqlite3.connect(\"db/test.db\")\n",
        "\n",
        "@app.teardown_request\n",
        "def teardown_request(exception):\n",
        "    if hasattr(g, 'db'):\n",
        "        g.db.close()\n",
        "\n",
        "@app.route('/add_data', methods = ['POST'])\n",
        "def add_data():\n",
        "    fname = request.form['firstname']\n",
        "    lname = request.form['lastname']\n",
        "    valueof = request.form['valueofcomputing']\n",
        "\n",
        "    g.db.execute(\"INSERT INTO computing_data(fname, lname, valueofcomputing) VALUES (?,?,?)\", [fname,lname,valueof])\n",
        "    g.db.commit()\n",
        "\n",
        "    return redirect('/')\n",
        "\n",
        "@app.route('/')\n",
        "def write_dynamic_page():\n",
        "    data=g.db.execute(\"SELECT * FROM computing_data\").fetchall()\n",
        "    displayComments=[]\n",
        "    for entry in data:\n",
        "        displayComments.append(entry[0]+\" \"+entry[1]+\" thinks that clinical computing is \"+entry[2])\n",
        "\n",
        "    return render_template('webform.html',len = len(displayComments),displayComments=displayComments)"
      ],
      "metadata": {
        "id": "ZTFIgQJ93iZ9"
      },
      "execution_count": null,
      "outputs": []
    },
    {
      "cell_type": "markdown",
      "source": [
        "##Functions for the RESTful interface\n",
        "\n",
        "A request to the service URL /get_all_comment_names using the HTTP verb GET calls the below function. This queries all the data from the website, formats it as a JSON dataset and returns this to the client application via HTTP "
      ],
      "metadata": {
        "id": "SUPZcsDg30YN"
      }
    },
    {
      "cell_type": "code",
      "source": [
        "@app.route('/get_all_comment_names', methods=['GET'])\n",
        "def get_all_comment_names():\n",
        "    data = g.db.execute(\"SELECT fname,lname FROM computing_data\").fetchall()\n",
        "    return jsonify(data)"
      ],
      "metadata": {
        "id": "S2xRDOPG35QF"
      },
      "execution_count": null,
      "outputs": []
    },
    {
      "cell_type": "markdown",
      "source": [
        "A request to the /add_comment URL using the GET verb adds data to the database. The function requires the additinal parameters to be included in the requesting URL using the '?, &' convention. The start of the parameter list is indicated with a queston mark '?', with each parameter then defined as <parameter name>=<value> and separated by an ampersand '&'. An example URL is thus: \n",
        "\n",
        "server:port/add_comment?fname=gareth&lname=Price&comment=\"totally+rubbish. \n",
        "\n",
        "The function returns the '204' HTTP code that indicates to the client that the request was sucessful."
      ],
      "metadata": {
        "id": "lRT72dO84muY"
      }
    },
    {
      "cell_type": "code",
      "source": [
        "@app.route('/add_comment', methods=['GET'])\n",
        "def add_comment():\n",
        "    query_parameters = request.args\n",
        "\n",
        "    fname = query_parameters.get('fname')\n",
        "    lname = query_parameters.get('lname')\n",
        "    comment = query_parameters.get('comment')\n",
        "\n",
        "    g.db.execute(\"INSERT INTO computing_data(fname, lname, valueofcomputing) VALUES (?,?,?)\", [fname, lname, comment])\n",
        "    g.db.commit()\n",
        "\n",
        "    return ('', 204)"
      ],
      "metadata": {
        "id": "_1J2VXCi4vOa"
      },
      "execution_count": null,
      "outputs": []
    },
    {
      "cell_type": "markdown",
      "source": [
        "##Run application\n",
        "As previously also need to load the html template and images to local file system. "
      ],
      "metadata": {
        "id": "U9KmIy-r58ff"
      }
    },
    {
      "cell_type": "code",
      "source": [
        "!mkdir templates\n",
        "!mkdir static\n",
        "!wget https://raw.githubusercontent.com/gpricechristie/hsstWebServiceDemo/main/templates/webform.html -P ./templates\n",
        "!wget https://raw.githubusercontent.com/gpricechristie/hsstWebServiceDemo/main/static/christie.jpg -P ./static"
      ],
      "metadata": {
        "id": "dlE25Oqr6Dac"
      },
      "execution_count": null,
      "outputs": []
    },
    {
      "cell_type": "markdown",
      "source": [
        "Run the application to create the local webserver. Click on the ngrok.io address from above to visit the page you have just created."
      ],
      "metadata": {
        "id": "cRYuYSGF6Ivj"
      }
    },
    {
      "cell_type": "code",
      "source": [
        "if __name__ == \"__main__\":\n",
        "        app.run()"
      ],
      "metadata": {
        "id": "jPhbohCJ6GIv"
      },
      "execution_count": null,
      "outputs": []
    },
    {
      "cell_type": "markdown",
      "source": [
        "#Demonstrate the RESTfulweb service interface\n",
        "To interact with the RESTful service first open the site via the ngrok URL and add some data to it via the web form.\n",
        "\n",
        "Open the command line window on your local computer (ie the laptop you are working on):\n",
        "\n",
        "\n",
        "1.   In the windows menu type 'cmd'\n",
        "\n",
        "##Get content of the web service database via /get_all_comment_names method\n",
        "\n",
        "To use the command line you will need the cURL command or an equivalent. This comes as standard in Windows 10 or above.  \n",
        "\n",
        "1.   At the command prompt type \"curl \\<ngrok URL\\>/get_all_comment_names\" where \\<ngrok URL\\> is the https ngrok address from above.\n",
        "2.   This should then return the list of the names you have entered into the web form\n",
        "3.   If you do not have the curl tool you can enter the same URL (including get_all_comment_names address) into a web browser. This should then display the list of names\n",
        "\n",
        "##Add additional data to the database via the /add_comment method\n",
        "\n",
        "Again using the cURL command in the cmd window\n",
        "\n",
        "1.   At the comand prompt type curl \"\\<ngok URL\\>/add_comment?fname=\\<first name\\>&lname=\\<last name\\>&comment=\\<your choice of comment\\>\" --insecure (be sure to include the quotation marks around the URL you pass to cURL)\n",
        "2.   Here \\<ngrok URL\\> is the ngrok URL from above\n",
        "3.   \\<first name\\>, \\<last name\\> and\\<comment\\> are your choice of first name, last name and comment respectively. When entering the comment you can use the '+' character in place of whitespaces.\n",
        "4.   The --insecure argument to the cURL command is used to circumvent some of the https security that we would implement on a production website\n",
        "5.   An example command would thus be\n",
        "\n",
        "curl \"https://\\<ngrok URL>/add_comment?fname=John&lname=Wick&comment=would+prefer+more+action\" --insecure\n",
        "\n",
        "6.   Refresh the displayed web page - it should now render the additional data you have added to the site\n",
        "\n",
        "\n",
        "\n",
        "\n",
        "\n",
        "\n"
      ],
      "metadata": {
        "id": "TclvLdx46QEG"
      }
    }
  ]
}