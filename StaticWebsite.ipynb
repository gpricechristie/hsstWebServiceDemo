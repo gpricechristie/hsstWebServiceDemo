{
  "nbformat": 4,
  "nbformat_minor": 0,
  "metadata": {
    "colab": {
      "provenance": [],
      "authorship_tag": "ABX9TyNsELocx8agmrQogPc6zhod",
      "include_colab_link": true
    },
    "kernelspec": {
      "name": "python3",
      "display_name": "Python 3"
    },
    "language_info": {
      "name": "python"
    }
  },
  "cells": [
    {
      "cell_type": "markdown",
      "metadata": {
        "id": "view-in-github",
        "colab_type": "text"
      },
      "source": [
        "<a href=\"https://colab.research.google.com/github/gpricechristie/hsstWebServiceDemo/blob/main/StaticWebsite.ipynb\" target=\"_parent\"><img src=\"https://colab.research.google.com/assets/colab-badge.svg\" alt=\"Open In Colab\"/></a>"
      ]
    },
    {
      "cell_type": "markdown",
      "source": [
        "#Static website\n",
        "In this note book we use the flask package to build a very simple static website\n",
        "\n",
        "##First load flask package\n",
        "Flask will create its web server on the local machine (ie that you would access at your localhost URL). We are running this application in the cloud so by definition it won't be on your local machine and thus unavailable on localhost.\n",
        "##Load pyngrok package\n",
        "The ngrok service will expose a URL given to it to a publically visible subdomain of ngrok.io. We will use this service to make our locally hosted website accessible through a public URL\n",
        "\n",
        "\n",
        "\n",
        "\n"
      ],
      "metadata": {
        "id": "Y0NIfnjAhCvy"
      }
    },
    {
      "cell_type": "code",
      "source": [
        "!pip install pyngrok\n",
        "!pip install flask\n",
        "from flask import Flask\n",
        "from pyngrok import ngrok"
      ],
      "metadata": {
        "id": "DpwSiM27hZjy"
      },
      "execution_count": null,
      "outputs": []
    },
    {
      "cell_type": "markdown",
      "source": [
        "Add authentication token. You need to get this by creating an account on the ngrok.com site (you will need to verify an e-mail address) and copying the authentication token string from the site. "
      ],
      "metadata": {
        "id": "w6vxFzcTP_Bg"
      }
    },
    {
      "cell_type": "code",
      "source": [
        "ngrok.set_auth_token(\"2OxbwWyt7aHTrLuvIkLgdvgmSLA_81zjJCaMLzNbzx89uDb8r\")\n"
      ],
      "metadata": {
        "id": "LEbFgKTskkBJ"
      },
      "execution_count": null,
      "outputs": []
    },
    {
      "cell_type": "markdown",
      "source": [
        "Create the main flask object that creates and runs the site web server"
      ],
      "metadata": {
        "id": "9SyfUk52hwIr"
      }
    },
    {
      "cell_type": "code",
      "source": [
        "app = Flask(__name__)"
      ],
      "metadata": {
        "id": "LQS5owSVh_1w"
      },
      "execution_count": null,
      "outputs": []
    },
    {
      "cell_type": "markdown",
      "source": [
        "Request that the web server application (which by default runs on port 5000) is exposed on the ngrok.com domain. The URL reported as the ngrok tunnel is an externally visible URL \n",
        "\n"
      ],
      "metadata": {
        "id": "YKy0sZpMkGLU"
      }
    },
    {
      "cell_type": "code",
      "source": [
        "public_url = ngrok.connect(5000).public_url\n",
        "print(\" * ngrok tunnel \\\"{}\\\" -> \\\"http://127.0.0.1:{}\\\"\".format(public_url, \"5000\"))"
      ],
      "metadata": {
        "id": "X9YNfizBvRIM"
      },
      "execution_count": null,
      "outputs": []
    },
    {
      "cell_type": "markdown",
      "source": [
        "Define the function that renders the root site page (i.e. /) - in this case a simple \"Hello World\" message"
      ],
      "metadata": {
        "id": "NhcfGYVNiCBG"
      }
    },
    {
      "cell_type": "code",
      "source": [
        "@app.route('/')\n",
        "def write_static_page():\n",
        "    return 'Hello World!'"
      ],
      "metadata": {
        "id": "NHv-7oyqiSvn"
      },
      "execution_count": null,
      "outputs": []
    },
    {
      "cell_type": "markdown",
      "source": [
        "Run to create the application that serves the site.\n",
        "This will be created on local webserver (ie one that runs on the cloud hardware we are working on). The pyngrok service then exposes this URL (https://localhost:5000) to the internet via the ngrok.io domain address given above. Click on the ngrok.io address to visit the page you have just created.\n",
        "\n",
        "---\n",
        "\n"
      ],
      "metadata": {
        "id": "lw85LbN7iYSl"
      }
    },
    {
      "cell_type": "code",
      "source": [
        "if __name__ == '__main__':\n",
        "      app.run()"
      ],
      "metadata": {
        "id": "65iqGl1YigzV"
      },
      "execution_count": null,
      "outputs": []
    }
  ]
}