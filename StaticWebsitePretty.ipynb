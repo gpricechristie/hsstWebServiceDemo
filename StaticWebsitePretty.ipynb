{
  "nbformat": 4,
  "nbformat_minor": 0,
  "metadata": {
    "colab": {
      "provenance": [],
      "authorship_tag": "ABX9TyOzoP31cz4MDokKAfyG2kCp",
      "include_colab_link": true
    },
    "kernelspec": {
      "name": "python3",
      "display_name": "Python 3"
    },
    "language_info": {
      "name": "python"
    }
  },
  "cells": [
    {
      "cell_type": "markdown",
      "metadata": {
        "id": "view-in-github",
        "colab_type": "text"
      },
      "source": [
        "<a href=\"https://colab.research.google.com/github/gpricechristie/hsstWebServiceDemo/blob/main/StaticWebsitePretty.ipynb\" target=\"_parent\"><img src=\"https://colab.research.google.com/assets/colab-badge.svg\" alt=\"Open In Colab\"/></a>"
      ]
    },
    {
      "cell_type": "markdown",
      "source": [
        "#Static but beautified website\n",
        "\n",
        "In this note book we use the flask package to build a simple static website, but in addition to the \"Hello World\" message displayed by the StaticWebsite notebook, we make it nicer looking by changing the flask rendering code to add images to the site.\n",
        "\n",
        "##First load flask package\n",
        "Flask will create its web server on the local machine (ie that you would access at your localhost URL). We are running this application in the cloud so by definition it won't be on your local machine and thus unavailable on localhost.\n",
        "\n",
        "##Load pyngrok package\n",
        "The ngrok service will expose a URL given to it to a publically visible subdomain of ngrok.io. We will use this service to make our locally hosted website accessible through a public URL"
      ],
      "metadata": {
        "id": "25QFVJqtUdkH"
      }
    },
    {
      "cell_type": "code",
      "source": [
        "!pip install pyngrok\n",
        "!pip install flask\n",
        "from flask import Flask, render_template\n",
        "from pyngrok import ngrok"
      ],
      "metadata": {
        "id": "a2SKbvbEUjGy"
      },
      "execution_count": null,
      "outputs": []
    },
    {
      "cell_type": "markdown",
      "source": [
        "#Boilerplate code to build website\n",
        "As for the StaticWebsite notebook we need to create the flask server object, and authenticate and create the ngrok tunnel"
      ],
      "metadata": {
        "id": "g6lx16ySUmg6"
      }
    },
    {
      "cell_type": "code",
      "source": [
        "app = Flask(__name__)\n",
        "\n",
        "ngrok.set_auth_token(\"2OxbwWyt7aHTrLuvIkLgdvgmSLA_81zjJCaMLzNbzx89uDb8r\")\n",
        "public_url = ngrok.connect(5000).public_url\n",
        "print(\" * ngrok tunnel \\\"{}\\\" -> \\\"http://127.0.0.1:{}\\\"\".format(public_url, \"5000\"))"
      ],
      "metadata": {
        "id": "fh4WDDjaVL7a"
      },
      "execution_count": null,
      "outputs": []
    },
    {
      "cell_type": "markdown",
      "source": [
        "#Rendering function\n",
        "Rather than display a single string, the rendering function instead asks the application to serve the index.html code to create the root site page "
      ],
      "metadata": {
        "id": "nDnWLVxLVrBT"
      }
    },
    {
      "cell_type": "code",
      "source": [
        "@app.route('/')\n",
        "def write_static_page():\n",
        "      return render_template('index.html')\n"
      ],
      "metadata": {
        "id": "-5ZfkQx0WD-7"
      },
      "execution_count": null,
      "outputs": []
    },
    {
      "cell_type": "markdown",
      "source": [
        "We need import the index.html file and the image file this links to into this Google colab runtime (additional files only persist while runtime is active on this platform). Import from github repository. The flask application expects html templates to be in a /templates directory."
      ],
      "metadata": {
        "id": "m1RVzKq9huJE"
      }
    },
    {
      "cell_type": "code",
      "source": [
        "!mkdir templates\n",
        "!mkdir static\n",
        "!wget https://raw.githubusercontent.com/gpricechristie/hsstWebServiceDemo/main/templates/index.html -P ./templates\n",
        "!wget https://raw.githubusercontent.com/gpricechristie/hsstWebServiceDemo/main/static/christie.jpg -P ./static"
      ],
      "metadata": {
        "id": "KEpeB2I2ARNI"
      },
      "execution_count": null,
      "outputs": []
    },
    {
      "cell_type": "markdown",
      "source": [
        "#Run application\n",
        "Run the application to create the local webserver. Click on the ngrok.io address from above to visit the page you have just created."
      ],
      "metadata": {
        "id": "KYmsGAheVUIK"
      }
    },
    {
      "cell_type": "code",
      "source": [
        "if __name__ == '__main__':\n",
        "        app.run()"
      ],
      "metadata": {
        "id": "Z7YFeHdjVkNZ"
      },
      "execution_count": null,
      "outputs": []
    }
  ]
}