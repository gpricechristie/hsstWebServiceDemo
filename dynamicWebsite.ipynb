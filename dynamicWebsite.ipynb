{
  "nbformat": 4,
  "nbformat_minor": 0,
  "metadata": {
    "colab": {
      "provenance": [],
      "authorship_tag": "ABX9TyM11yYIl0VC3LveB5BaVYKT",
      "include_colab_link": true
    },
    "kernelspec": {
      "name": "python3",
      "display_name": "Python 3"
    },
    "language_info": {
      "name": "python"
    }
  },
  "cells": [
    {
      "cell_type": "markdown",
      "metadata": {
        "id": "view-in-github",
        "colab_type": "text"
      },
      "source": [
        "<a href=\"https://colab.research.google.com/github/gpricechristie/hsstWebServiceDemo/blob/main/dynamicWebsite.ipynb\" target=\"_parent\"><img src=\"https://colab.research.google.com/assets/colab-badge.svg\" alt=\"Open In Colab\"/></a>"
      ]
    },
    {
      "cell_type": "markdown",
      "source": [
        "#Dynamic database backed website\n",
        "As for the previous example,this code uses flask to create a website thats rendered through the use of html templates. However, this site also uses a database (in this case an SQLite database) to make the website content dynamic.\n",
        "\n",
        "As in previous examples we also use pyngrok to expose the locally hosted web service to the public internet\n",
        "\n"
      ],
      "metadata": {
        "id": "ibaplxYLF7ZJ"
      }
    },
    {
      "cell_type": "code",
      "source": [
        "!pip install pyngrok\n",
        "from flask import Flask, render_template, request, redirect, g\n",
        "from pyngrok import ngrok\n",
        "import sqlite3\n",
        "import os"
      ],
      "metadata": {
        "id": "4ei1bSbDF5ly"
      },
      "execution_count": null,
      "outputs": []
    },
    {
      "cell_type": "markdown",
      "source": [
        "##Create the website database\n",
        "Use the sqlite3 package to create a new database (need the parent directory to exist first) and connect to it"
      ],
      "metadata": {
        "id": "viWczrk9Gryi"
      }
    },
    {
      "cell_type": "code",
      "source": [
        "if not os.path.exists('db'):\n",
        "  os.makedirs('db')\n",
        "conn = sqlite3.connect(\"db/test.db\")"
      ],
      "metadata": {
        "id": "NpPxJxvmHBzW"
      },
      "execution_count": null,
      "outputs": []
    },
    {
      "cell_type": "markdown",
      "source": [
        "Create a new table that will hold the data the website reads while rendering. Our database will contain a users first and last name and their thoughts on how interesting clinical computing is"
      ],
      "metadata": {
        "id": "XFJE7gOcHbHE"
      }
    },
    {
      "cell_type": "code",
      "source": [
        "cursor = conn.cursor()\n",
        "cursor.execute(\"DROP TABLE IF EXISTS computing_data;\")\n",
        "cursor.execute(\"CREATE TABLE IF NOT EXISTS computing_data ( fname TEXT, lname TEXT, valueofcomputing TEXT );\")"
      ],
      "metadata": {
        "id": "zbjay-v-Hj0E"
      },
      "execution_count": null,
      "outputs": []
    },
    {
      "cell_type": "markdown",
      "source": [
        "##Boilerplate code to build website\n",
        "As for the StaticWebsite notebook we need to create the flask server object, and authenticate and create the ngrok tunnel"
      ],
      "metadata": {
        "id": "VhmEbennH4DF"
      }
    },
    {
      "cell_type": "code",
      "source": [
        "app = Flask(__name__)\n",
        "\n",
        "ngrok.set_auth_token(\"2OxbwWyt7aHTrLuvIkLgdvgmSLA_81zjJCaMLzNbzx89uDb8r\")\n",
        "public_url = ngrok.connect(5000).public_url\n",
        "print(\" * ngrok tunnel \\\"{}\\\" -> \\\"http://127.0.0.1:{}\\\"\".format(public_url, \"5000\"))"
      ],
      "metadata": {
        "id": "-NJTSIMyH-Ep"
      },
      "execution_count": null,
      "outputs": []
    },
    {
      "cell_type": "markdown",
      "source": [
        "##Functions to render the site\n",
        "In this example we use a series of functions that are called at different times during the rendering of the website\n",
        "\n",
        "This function uses the before_request decorator and is called before each web request is processed. It connects to the database we previously created. The 'g' indicates the database connection is global (ie visible to the application outside of this specific function)"
      ],
      "metadata": {
        "id": "OmLV1_ksIYcx"
      }
    },
    {
      "cell_type": "code",
      "source": [
        "@app.before_request\n",
        "def before_request():\n",
        "    g.db = sqlite3.connect(\"db/test.db\")"
      ],
      "metadata": {
        "id": "YIWxLnYzJoLo"
      },
      "execution_count": null,
      "outputs": []
    },
    {
      "cell_type": "markdown",
      "source": [
        "This function is called after each request andcloses the database connection"
      ],
      "metadata": {
        "id": "ancjsTTBZqAM"
      }
    },
    {
      "cell_type": "code",
      "source": [
        "@app.teardown_request\n",
        "def teardown_request(exception):\n",
        "    if hasattr(g, 'db'):\n",
        "        g.db.close()"
      ],
      "metadata": {
        "id": "hFFR0PsAZxkp"
      },
      "execution_count": null,
      "outputs": []
    },
    {
      "cell_type": "markdown",
      "source": [
        "This function is called when the URL /add_data is called. Rather than render a webpage however (as in the previous examples) it calls some code that inserts data supplied as part of the URL into the database.\n",
        "\n",
        "The webform.html template uses some html code to create a webform. When that form is used it sends an http POST request to the /add_data page which calls the below function. At the end of the function the request is redirected to the root page which renders the site."
      ],
      "metadata": {
        "id": "DeCEnEjXaFYT"
      }
    },
    {
      "cell_type": "code",
      "source": [
        "@app.route('/add_data', methods = ['POST'])\n",
        "def add_data():\n",
        "    fname = request.form['firstname']\n",
        "    lname = request.form['lastname']\n",
        "    valueof = request.form['valueofcomputing']\n",
        "\n",
        "    g.db.execute(\"INSERT INTO computing_data(fname, lname, valueofcomputing) VALUES (?,?,?)\", [fname,lname,valueof])\n",
        "    g.db.commit()\n",
        "\n",
        "    return redirect('/')"
      ],
      "metadata": {
        "id": "lLJ-joAiaFjv"
      },
      "execution_count": null,
      "outputs": []
    },
    {
      "cell_type": "markdown",
      "source": [
        "\n",
        "\n",
        "The main rendering function renders the webform.html. The difference to the previous example is that the function queries the database to get a copy of all the data contained in it and builds these into an array of strings. These are passed as arguments to the render_template() function which inserts them into the html rendered.\n"
      ],
      "metadata": {
        "id": "okWljk28atd8"
      }
    },
    {
      "cell_type": "code",
      "source": [
        "@app.route('/')\n",
        "def write_dynamic_page():\n",
        "    data=g.db.execute(\"SELECT * FROM computing_data\").fetchall()\n",
        "    displayComments=[]\n",
        "    for entry in data:\n",
        "        displayComments.append(entry[0]+\" \"+entry[1]+\" thinks that clinical computing is \"+entry[2])\n",
        "\n",
        "    return render_template('webform.html',len = len(displayComments),displayComments=displayComments)"
      ],
      "metadata": {
        "id": "klmfHDiVatmv"
      },
      "execution_count": null,
      "outputs": []
    },
    {
      "cell_type": "markdown",
      "source": [
        "##Run application\n",
        "Load the html template and images to local file system. "
      ],
      "metadata": {
        "id": "F2Itn8Nles9m"
      }
    },
    {
      "cell_type": "code",
      "source": [
        "!mkdir templates\n",
        "!mkdir static\n",
        "!wget https://raw.githubusercontent.com/gpricechristie/hsstWebServiceDemo/main/templates/webform.html -P ./templates\n",
        "!wget https://raw.githubusercontent.com/gpricechristie/hsstWebServiceDemo/main/static/christie.jpg -P ./static"
      ],
      "metadata": {
        "id": "_l3xM6f4e8N8"
      },
      "execution_count": null,
      "outputs": []
    },
    {
      "cell_type": "markdown",
      "source": [
        "Run the application to create the local webserver. Click on the ngrok.io address from above to visit the page you have just created."
      ],
      "metadata": {
        "id": "xmFOKZ5Qe8pm"
      }
    },
    {
      "cell_type": "code",
      "source": [
        "if __name__ == \"__main__\":\n",
        "      app.run()"
      ],
      "metadata": {
        "id": "MTNP7V0SetFo"
      },
      "execution_count": null,
      "outputs": []
    }
  ]
}